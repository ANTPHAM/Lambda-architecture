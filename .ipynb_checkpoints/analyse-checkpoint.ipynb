{
 "cells": [
  {
   "cell_type": "markdown",
   "metadata": {},
   "source": [
    "# Projet 5 : Data analysis by combining a batch and a speed layer \n",
    "\n"
   ]
  },
  {
   "cell_type": "code",
   "execution_count": 1,
   "metadata": {},
   "outputs": [],
   "source": [
    "from datetime import date, datetime, timedelta\n",
    "import time\n",
    "import pandas as pd\n",
    "from bson.json_util import dumps\n",
    "from collections import Counter\n",
    "import pymongo\n",
    "import analyse #analyse.py"
   ]
  },
  {
   "cell_type": "markdown",
   "metadata": {},
   "source": [
    "Connexion a MongoDB"
   ]
  },
  {
   "cell_type": "code",
   "execution_count": 2,
   "metadata": {},
   "outputs": [],
   "source": [
    "myclient = pymongo.MongoClient(\"mongodb://localhost:27017/\")\n",
    "mydb = myclient.tweets\n",
    "mycolbatch = mydb.batch_test2\n",
    "mycolstream = mydb.streaming_test2"
   ]
  },
  {
   "cell_type": "markdown",
   "metadata": {},
   "source": [
    "Recuperer les parametres pour definir l'intervalle de temps sur laquelle l'utiliateur cherche a avoir des donnees"
   ]
  },
  {
   "cell_type": "code",
   "execution_count": 3,
   "metadata": {},
   "outputs": [
    {
     "name": "stdout",
     "output_type": "stream",
     "text": [
      "Voulez-vous recuperer les donnees depuis quelques dernieres heures? reponse Oui = O; Non = N n\n",
      "ok\n"
     ]
    }
   ],
   "source": [
    "rp1 = None\n",
    "while rp1 is None:\n",
    "    input_value = input(\"Voulez-vous recuperer les donnees depuis quelques dernieres heures? reponse Oui = O; Non = N \")\n",
    "    try:\n",
    "        \n",
    "        if str(input_value).lower() == 'o' or str(input_value).lower() == 'n':\n",
    "            rp1 = str(input_value)\n",
    "            print('ok')\n",
    "            \n",
    "        else:\n",
    "            print(\"{input} Veuillez preciser si vous voulez recuperer les donnees depuis quelques dernieres heures? reponse Oui = O; Non = N\".format(input=input_value))\n",
    "    except ValueError:\n",
    "        print(\"{input} Veuillez preciser si vous voulez recuperer les donnees depuis quelques dernieres heures? reponse Oui = O; Non = N\".format(input=input_value))\n",
    "    "
   ]
  },
  {
   "cell_type": "code",
   "execution_count": 4,
   "metadata": {},
   "outputs": [
    {
     "name": "stdout",
     "output_type": "stream",
     "text": [
      "Veuillez renseigner une date debut sous format YYYY-MM-DD-HH (example 2020-07-27-15): 2020-07-28-15\n",
      "Veuillez renseigner une date de fin sous format YYYY-MM-DD-HH: 2020-07-28-18\n",
      "2020-07-28 15:00:00 2020-07-28 18:00:00\n",
      "['2807202015', '2807202016', '2807202017', '2807202018']\n"
     ]
    }
   ],
   "source": [
    "if rp1 == 'o':\n",
    "    print (\"Depuis combien d'heures voulez-vous recuperer des donnees? example: 3\")\n",
    "    nbh = input()\n",
    "    nbh = int(nbh)\n",
    "    startdate = datetime.now() - timedelta(hours = nbh)\n",
    "    enddate = datetime.now()\n",
    "    print(\"date debut: %s\" %startdate)\n",
    "    print(\"date fin: %s\" %enddate)\n",
    "else :  \n",
    "    startdate = input(\"Veuillez renseigner une date debut sous format YYYY-MM-DD-HH (example 2020-07-27-15): \")\n",
    "    year, month, day,hour = map(int, startdate.split('-'))\n",
    "    startdate = datetime(year, month, day,hour)\n",
    "    enddate = input(\"Veuillez renseigner une date de fin sous format YYYY-MM-DD-HH: \")\n",
    "    year1, month1, day1,hour1 = map(int, enddate.split('-'))\n",
    "    enddate = datetime(year1, month1, day1,hour1)\n",
    "    print(startdate,enddate)\n",
    "\n",
    "# creer une liste contenant toutes les tranches d'horaire; 1 tranche = 1 heure\n",
    "time_range = pd.date_range(startdate, enddate, freq='H')    \n",
    "dlist = []\n",
    "for tmp in time_range:\n",
    "    if len(str(tmp.hour)) > 1:\n",
    "        h = str(tmp.hour)\n",
    "    else:\n",
    "        h = str(0) + str(tmp.hour)\n",
    "\n",
    "    if len(str(tmp.day)) > 1:\n",
    "        d = str(tmp.day)\n",
    "    else:\n",
    "        d = str(0) + str(tmp.day)\n",
    "    if len(str(tmp.month)) > 1:\n",
    "        m = str(tmp.month)\n",
    "    else:\n",
    "        m = str(0) + str(tmp.month)\n",
    "    y = str(tmp.year)\n",
    "    dlist.append(d+m+y+h)\n",
    "print(dlist)"
   ]
  },
  {
   "cell_type": "markdown",
   "metadata": {},
   "source": [
    "Creer des requetes pour interroger les bases de donnees sur MongoDB ( batch and speed layer).\n",
    "\n",
    "Le code doit permmettre aux 2 \"layers\" de se relayer pour satisfaire l'objectif d'une requete."
   ]
  },
  {
   "cell_type": "code",
   "execution_count": 5,
   "metadata": {},
   "outputs": [
    {
     "name": "stdout",
     "output_type": "stream",
     "text": [
      "Batch layer: \n",
      "*******\n",
      "founded at 2807202015\n",
      "Batch layer: \n",
      "*******\n",
      "founded at 2807202016\n",
      "========================================\n",
      "Streaming layer: \n",
      "*******\n",
      "founded at 2807202017\n",
      "========================================\n",
      "Streaming layer: \n",
      "No data exist\n",
      "at 2807202018\n"
     ]
    }
   ],
   "source": [
    "dbatch = {}\n",
    "dstream = {}\n",
    "for it in dlist:\n",
    "    mybatchquery = {\"name\": it}\n",
    "    mybatchdocJson = mycolbatch.find_one(mybatchquery)\n",
    "    try:\n",
    "        # si le donnees existent sur le batch layer\n",
    "        if mybatchdocJson is not None:\n",
    "            print(\"Batch layer: \")\n",
    "            d1 = dict(mybatchdocJson)['hashktags']\n",
    "            dmybatchdoc = {}\n",
    "            for i in range(len(d1)):\n",
    "                k = d1[i]['hashtags']\n",
    "                v = d1[i]['count']\n",
    "                dmybatchdoc[k] = v\n",
    "            dbatch.update(dmybatchdoc)\n",
    "            print(\"*******\")\n",
    "            print(\"founded at %s\" %it)\n",
    "        # si non, c'est la speed layer qui prend le relais\n",
    "        else:\n",
    "            print(\"========================================\")\n",
    "            print(\"Streaming layer: \")\n",
    "            mystreamingquery = { \"name\": it}\n",
    "            mystreamingdocJson = mycolstream.find_one(mystreamingquery)\n",
    "            d2 = dict(mystreamingdocJson)['hashktags']\n",
    "            dmystreamingdoc = {}\n",
    "            for i in range(len(d2)):\n",
    "                k = d2[i]['hashtags']\n",
    "                v = d2[i]['count']\n",
    "                dmystreamingdoc[k] = v\n",
    "            dstream.update(dmystreamingdoc)\n",
    "            print(\"*******\")\n",
    "            print(\"founded at %s\" %it)\n",
    "            \n",
    "    except:\n",
    "        print(\"No data exist\")\n",
    "        print(\"at %s\" %it)\n",
    "        \n",
    "    "
   ]
  },
  {
   "cell_type": "code",
   "execution_count": 6,
   "metadata": {},
   "outputs": [],
   "source": [
    "D = dict(Counter(dbatch) + Counter(dstream))\n",
    "Dsorted = sorted(D.items() , reverse=True, key=lambda x: x[1])"
   ]
  },
  {
   "cell_type": "code",
   "execution_count": 7,
   "metadata": {},
   "outputs": [
    {
     "name": "stdout",
     "output_type": "stream",
     "text": [
      "the 10 most tweeted hashtags:\n",
      "\n",
      "ExaBFF : 412\n",
      "ExaGOT7 : 238\n",
      "ExaARMY : 214\n",
      "GOT7 : 199\n",
      "ImranKhanKhulwaoPUBG : 144\n",
      "MTVHottest : 122\n",
      "10000HoursbyJK : 100\n",
      "1DWWATOUR : 90\n",
      "BTS : 87\n",
      "10000HoursWithJK : 84\n",
      "JusticeForGloriaBambo : 83\n",
      "RheaChakraborty : 77\n",
      "MOTSPARTY : 74\n",
      "WhyFearCBIForSSR : 69\n",
      "JUNGKOOK : 62\n",
      "नियोजन_नहीं_तो_वोट_नहीं : 60\n",
      "TAEMIN : 59\n",
      "COVID19 : 55\n",
      "TrumpKillsTexas : 55\n",
      "BarrHearing : 51\n"
     ]
    }
   ],
   "source": [
    "# Iterate over the sorted sequence, keep the Top ten only\n",
    "print(\"the 10 most tweeted hashtags:\\n\")\n",
    "for elem in Dsorted[:20] :\n",
    "    print(elem[0] , \":\" , elem[1] )  "
   ]
  },
  {
   "cell_type": "markdown",
   "metadata": {},
   "source": [
    "Using the module \"analyse\""
   ]
  },
  {
   "cell_type": "code",
   "execution_count": 8,
   "metadata": {},
   "outputs": [
    {
     "name": "stdout",
     "output_type": "stream",
     "text": [
      "Voulez-vous recuperer les donnees depuis quelques dernieres heures? reponse Oui = O; Non = N n\n",
      "ok\n",
      "Veuillez renseigner une date debut sous format YYYY-MM-DD-HH (example 2020-07-27-15): 2020-07-28-15\n",
      "Veuillez renseigner une date de fin sous format YYYY-MM-DD-HH: 2020-07-28-18\n",
      "2020-07-28 15:00:00 2020-07-28 18:00:00\n",
      "['2807202015', '2807202016', '2807202017', '2807202018']\n",
      "Combien de sujets les plus tweetes que vous voulez trouver? 10\n"
     ]
    }
   ],
   "source": [
    "inp = analyse.TweetAnalyse.get_input()"
   ]
  },
  {
   "cell_type": "code",
   "execution_count": 9,
   "metadata": {},
   "outputs": [
    {
     "name": "stdout",
     "output_type": "stream",
     "text": [
      "Combining the results of the batch and the speed layer\n",
      "Batch layer: \n",
      "*******\n",
      "founded at 2807202015\n",
      "Batch layer: \n",
      "*******\n",
      "founded at 2807202016\n",
      "========================================\n",
      "Streaming layer: \n",
      "*******\n",
      "founded at 2807202017\n",
      "========================================\n",
      "Streaming layer: \n",
      "No data exist\n",
      "at 2807202018\n",
      "Batch layer: \n",
      "*******\n",
      "founded at 2807202015\n",
      "Batch layer: \n",
      "*******\n",
      "founded at 2807202016\n",
      "========================================\n",
      "Streaming layer: \n",
      "*******\n",
      "founded at 2807202017\n",
      "========================================\n",
      "Streaming layer: \n",
      "No data exist\n",
      "at 2807202018\n",
      "\n",
      "The 10 most tweeted hashtags:\n",
      "\n",
      "ExaBFF : 412\n",
      "ExaGOT7 : 238\n",
      "ExaARMY : 214\n",
      "GOT7 : 199\n",
      "ImranKhanKhulwaoPUBG : 144\n",
      "MTVHottest : 122\n",
      "10000HoursbyJK : 100\n",
      "1DWWATOUR : 90\n",
      "BTS : 87\n",
      "10000HoursWithJK : 84\n"
     ]
    }
   ],
   "source": [
    "inp.get_result()"
   ]
  }
 ],
 "metadata": {
  "kernelspec": {
   "display_name": "Python 3",
   "language": "python",
   "name": "python3"
  },
  "language_info": {
   "codemirror_mode": {
    "name": "ipython",
    "version": 3
   },
   "file_extension": ".py",
   "mimetype": "text/x-python",
   "name": "python",
   "nbconvert_exporter": "python",
   "pygments_lexer": "ipython3",
   "version": "3.7.3"
  }
 },
 "nbformat": 4,
 "nbformat_minor": 2
}
